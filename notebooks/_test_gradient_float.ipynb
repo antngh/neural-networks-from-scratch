{
 "cells": [
  {
   "cell_type": "code",
   "execution_count": 1,
   "metadata": {},
   "outputs": [],
   "source": [
    "import sys\n",
    "sys.path.append('..')"
   ]
  },
  {
   "cell_type": "code",
   "execution_count": 3,
   "metadata": {},
   "outputs": [],
   "source": [
    "from neural_networks_from_scratch.gradient_tracking.gradient_float import GFloat"
   ]
  },
  {
   "cell_type": "code",
   "execution_count": 4,
   "metadata": {},
   "outputs": [
    {
     "data": {
      "text/plain": [
       "defaultdict(int,\n",
       "            {GFloat(3.0, is_updatable=False, name=b_applyfunc_two_inputs_add_a): 1,\n",
       "             GFloat(4.0, is_updatable=False, name=b_applyfunc_two_inputs_add_a_applyfunc_two_inputs_add_a): 2,\n",
       "             GFloat(5.0, is_updatable=False, name=b_applyfunc_two_inputs_add_a_applyfunc_two_inputs_add_a_applyfunc_two_inputs_add_a): 3,\n",
       "             GFloat(9.0, is_updatable=False, name=b_applyfunc_two_inputs_add_a_applyfunc_two_inputs_add_a_applyfunc_two_inputs_add_a_applyfunc_two_inputs_add_b_applyfunc_two_inputs_add_a_applyfunc_two_inputs_add_a): 5})"
      ]
     },
     "execution_count": 4,
     "metadata": {},
     "output_type": "execute_result"
    }
   ],
   "source": [
    "a = GFloat(1.0, name=\"a\")\n",
    "b = GFloat(2.0, name=\"b\") + a\n",
    "c = b + a\n",
    "d = c + a + c\n",
    "a.get_all_downstream_floats(with_counts=True)"
   ]
  },
  {
   "cell_type": "code",
   "execution_count": 3,
   "metadata": {},
   "outputs": [
    {
     "name": "stdout",
     "output_type": "stream",
     "text": [
      "x=-2, y=16, \n"
     ]
    },
    {
     "data": {
      "text/plain": [
       "-31.999760001077956"
      ]
     },
     "execution_count": 3,
     "metadata": {},
     "output_type": "execute_result"
    }
   ],
   "source": [
    "def _calculate_grad_numerically(x, y, func, epsilon=1e-5) -> float:\n",
    "    print(f\"{x=}, y={y}, \")\n",
    "    return (func(x + epsilon) - y) / epsilon\n",
    "\n",
    "_calculate_grad_numerically(-2, 16, lambda x: x**4)"
   ]
  },
  {
   "cell_type": "code",
   "execution_count": 4,
   "metadata": {},
   "outputs": [],
   "source": [
    "x = list(range(10))\n",
    "y_true = [5 * x_ + 10 for x_ in x]\n"
   ]
  },
  {
   "cell_type": "code",
   "execution_count": 5,
   "metadata": {},
   "outputs": [
    {
     "data": {
      "application/vnd.jupyter.widget-view+json": {
       "model_id": "abcc6a167e7e46cba3bfca3af51192ad",
       "version_major": 2,
       "version_minor": 0
      },
      "text/plain": [
       "  0%|          | 0/10000000 [00:00<?, ?it/s]"
      ]
     },
     "metadata": {},
     "output_type": "display_data"
    },
    {
     "name": "stdout",
     "output_type": "stream",
     "text": [
      "adding func_name_left='mul__left'\n",
      "adding func_name_right='mul__right'\n",
      "adding func_name_left='add__left'\n",
      "adding func_name_right='add__right'\n",
      "adding func_name_left='add__left'\n",
      "adding func_name_right='add__right'\n",
      "adding func_name_left='add__left'\n",
      "adding func_name_right='add__right'\n",
      "adding func_name_left='add__left'\n",
      "adding func_name_right='add__right'\n",
      "adding func_name_left='add__left'\n",
      "adding func_name_right='add__right'\n",
      "adding func_name_left='add__left'\n",
      "adding func_name_right='add__right'\n",
      "adding func_name_left='add__left'\n",
      "adding func_name_right='add__right'\n",
      "adding func_name_left='add__left'\n",
      "adding func_name_right='add__right'\n",
      "adding func_name_left='add__left'\n",
      "adding func_name_right='add__right'\n",
      "adding func_name_left='add__left'\n",
      "adding func_name_right='add__right'\n",
      "adding func_name_left='sub__left'\n",
      "adding func_name_right='sub__right'\n",
      "adding func_name_left='pow__left'\n",
      "adding func_name_right='pow__right'\n",
      "adding func_name_left='sub__left'\n",
      "adding func_name_right='sub__right'\n",
      "adding func_name_left='pow__left'\n",
      "adding func_name_right='pow__right'\n",
      "adding func_name_left='sub__left'\n",
      "adding func_name_right='sub__right'\n",
      "adding func_name_left='pow__left'\n",
      "adding func_name_right='pow__right'\n",
      "adding func_name_left='sub__left'\n",
      "adding func_name_right='sub__right'\n",
      "adding func_name_left='pow__left'\n",
      "adding func_name_right='pow__right'\n",
      "adding func_name_left='sub__left'\n",
      "adding func_name_right='sub__right'\n",
      "adding func_name_left='pow__left'\n",
      "adding func_name_right='pow__right'\n",
      "adding func_name_left='sub__left'\n",
      "adding func_name_right='sub__right'\n",
      "adding func_name_left='pow__left'\n",
      "adding func_name_right='pow__right'\n",
      "adding func_name_left='sub__left'\n",
      "adding func_name_right='sub__right'\n",
      "adding func_name_left='pow__left'\n",
      "adding func_name_right='pow__right'\n",
      "adding func_name_left='sub__left'\n",
      "adding func_name_right='sub__right'\n",
      "adding func_name_left='pow__left'\n",
      "adding func_name_right='pow__right'\n",
      "adding func_name_left='sub__left'\n",
      "adding func_name_right='sub__right'\n",
      "adding func_name_left='pow__left'\n",
      "adding func_name_right='pow__right'\n",
      "adding func_name_left='sub__left'\n",
      "adding func_name_right='sub__right'\n",
      "adding func_name_left='pow__left'\n",
      "adding func_name_right='pow__right'\n",
      "adding func_name_left='add__left'\n",
      "adding func_name_right='add__right'\n",
      "adding func_name_left='add__left'\n",
      "adding func_name_right='add__right'\n",
      "adding func_name_left='add__left'\n",
      "adding func_name_right='add__right'\n",
      "adding func_name_left='add__left'\n",
      "adding func_name_right='add__right'\n",
      "adding func_name_left='add__left'\n",
      "adding func_name_right='add__right'\n",
      "adding func_name_left='add__left'\n",
      "adding func_name_right='add__right'\n",
      "adding func_name_left='add__left'\n",
      "adding func_name_right='add__right'\n",
      "adding func_name_left='add__left'\n",
      "adding func_name_right='add__right'\n",
      "adding func_name_left='add__left'\n",
      "adding func_name_right='add__right'\n",
      "adding func_name_left='add__left'\n",
      "adding func_name_right='add__right'\n",
      "adding func_name_left='div__left'\n",
      "adding func_name_right='div__right'\n",
      "i=0, learning_rate=5e-06, loss.val=861.0\n",
      "x=8610.0, y=861.0, \n",
      "x=6585.0, y=8610.0, \n",
      "x=4904.0, y=6585.0, \n",
      "x=3535.0, y=4904.0, \n",
      "x=2446.0, y=3535.0, \n",
      "x=1605.0, y=2446.0, \n",
      "x=980.0, y=1605.0, \n",
      "x=539.0, y=980.0, \n",
      "x=250.0, y=539.0, \n",
      "x=81.0, y=250.0, \n",
      "x=81.0, y=81.0, \n",
      "x=-9.0, y=81.0, \n",
      "x=1.0, y=-9.0, \n",
      "x=0.0, y=1.0, \n",
      "x=1.0, y=0.0, \n"
     ]
    },
    {
     "ename": "KeyError",
     "evalue": "'add__right'",
     "output_type": "error",
     "traceback": [
      "\u001b[0;31m---------------------------------------------------------------------------\u001b[0m",
      "\u001b[0;31mKeyError\u001b[0m                                  Traceback (most recent call last)",
      "Cell \u001b[0;32mIn[5], line 34\u001b[0m\n\u001b[1;32m     32\u001b[0m res[\u001b[38;5;124m\"\u001b[39m\u001b[38;5;124mm\u001b[39m\u001b[38;5;124m\"\u001b[39m]\u001b[38;5;241m.\u001b[39mappend(m\u001b[38;5;241m.\u001b[39mval)\n\u001b[1;32m     33\u001b[0m res[\u001b[38;5;124m\"\u001b[39m\u001b[38;5;124mc\u001b[39m\u001b[38;5;124m\"\u001b[39m]\u001b[38;5;241m.\u001b[39mappend(c\u001b[38;5;241m.\u001b[39mval)\n\u001b[0;32m---> 34\u001b[0m res[\u001b[38;5;124m\"\u001b[39m\u001b[38;5;124mm_grad\u001b[39m\u001b[38;5;124m\"\u001b[39m]\u001b[38;5;241m.\u001b[39mappend(\u001b[43mm\u001b[49m\u001b[38;5;241;43m.\u001b[39;49m\u001b[43mgrad\u001b[49m)\n\u001b[1;32m     35\u001b[0m res[\u001b[38;5;124m\"\u001b[39m\u001b[38;5;124mc_grad\u001b[39m\u001b[38;5;124m\"\u001b[39m]\u001b[38;5;241m.\u001b[39mappend(c\u001b[38;5;241m.\u001b[39mgrad)\n\u001b[1;32m     36\u001b[0m res[\u001b[38;5;124m\"\u001b[39m\u001b[38;5;124mloss\u001b[39m\u001b[38;5;124m\"\u001b[39m]\u001b[38;5;241m.\u001b[39mappend(loss\u001b[38;5;241m.\u001b[39mval)\n",
      "File \u001b[0;32m~/dev/neural-networks-from-scratch/neural_networks_from_scratch/gradient_float.py:98\u001b[0m, in \u001b[0;36mGFloat.grad\u001b[0;34m(self)\u001b[0m\n\u001b[1;32m     95\u001b[0m \u001b[38;5;129m@property\u001b[39m\n\u001b[1;32m     96\u001b[0m \u001b[38;5;28;01mdef\u001b[39;00m \u001b[38;5;21mgrad\u001b[39m(\u001b[38;5;28mself\u001b[39m) \u001b[38;5;241m-\u001b[39m\u001b[38;5;241m>\u001b[39m \u001b[38;5;28mfloat\u001b[39m \u001b[38;5;241m|\u001b[39m \u001b[38;5;28;01mNone\u001b[39;00m:\n\u001b[1;32m     97\u001b[0m     \u001b[38;5;28;01mif\u001b[39;00m \u001b[38;5;28mself\u001b[39m\u001b[38;5;241m.\u001b[39m_grad \u001b[38;5;129;01mis\u001b[39;00m \u001b[38;5;28;01mNone\u001b[39;00m:\n\u001b[0;32m---> 98\u001b[0m         \u001b[38;5;28mself\u001b[39m\u001b[38;5;241m.\u001b[39mgrad \u001b[38;5;241m=\u001b[39m \u001b[38;5;28;43mself\u001b[39;49m\u001b[38;5;241;43m.\u001b[39;49m\u001b[43mcalculate_grad\u001b[49m\u001b[43m(\u001b[49m\u001b[43m)\u001b[49m\n\u001b[1;32m     99\u001b[0m     \u001b[38;5;28;01mreturn\u001b[39;00m \u001b[38;5;28mself\u001b[39m\u001b[38;5;241m.\u001b[39m_grad\n",
      "File \u001b[0;32m~/dev/neural-networks-from-scratch/neural_networks_from_scratch/gradient_float.py:141\u001b[0m, in \u001b[0;36mGFloat.calculate_grad\u001b[0;34m(self)\u001b[0m\n\u001b[1;32m    139\u001b[0m grad \u001b[38;5;241m=\u001b[39m \u001b[38;5;241m0.0\u001b[39m\n\u001b[1;32m    140\u001b[0m \u001b[38;5;28;01mfor\u001b[39;00m downstream_var, relation, other_var \u001b[38;5;129;01min\u001b[39;00m \u001b[38;5;28mself\u001b[39m\u001b[38;5;241m.\u001b[39mdownstream_data:\n\u001b[0;32m--> 141\u001b[0m     grad \u001b[38;5;241m+\u001b[39m\u001b[38;5;241m=\u001b[39m \u001b[43mdownstream_var\u001b[49m\u001b[38;5;241;43m.\u001b[39;49m\u001b[43mgrad\u001b[49m \u001b[38;5;241m*\u001b[39m \u001b[38;5;28mself\u001b[39m\u001b[38;5;241m.\u001b[39m_calculate_grad_from_downstream_var(\n\u001b[1;32m    142\u001b[0m         downstream_var, relation, other_var\n\u001b[1;32m    143\u001b[0m     )\n\u001b[1;32m    144\u001b[0m \u001b[38;5;28;01mreturn\u001b[39;00m grad\n",
      "File \u001b[0;32m~/dev/neural-networks-from-scratch/neural_networks_from_scratch/gradient_float.py:98\u001b[0m, in \u001b[0;36mGFloat.grad\u001b[0;34m(self)\u001b[0m\n\u001b[1;32m     95\u001b[0m \u001b[38;5;129m@property\u001b[39m\n\u001b[1;32m     96\u001b[0m \u001b[38;5;28;01mdef\u001b[39;00m \u001b[38;5;21mgrad\u001b[39m(\u001b[38;5;28mself\u001b[39m) \u001b[38;5;241m-\u001b[39m\u001b[38;5;241m>\u001b[39m \u001b[38;5;28mfloat\u001b[39m \u001b[38;5;241m|\u001b[39m \u001b[38;5;28;01mNone\u001b[39;00m:\n\u001b[1;32m     97\u001b[0m     \u001b[38;5;28;01mif\u001b[39;00m \u001b[38;5;28mself\u001b[39m\u001b[38;5;241m.\u001b[39m_grad \u001b[38;5;129;01mis\u001b[39;00m \u001b[38;5;28;01mNone\u001b[39;00m:\n\u001b[0;32m---> 98\u001b[0m         \u001b[38;5;28mself\u001b[39m\u001b[38;5;241m.\u001b[39mgrad \u001b[38;5;241m=\u001b[39m \u001b[38;5;28;43mself\u001b[39;49m\u001b[38;5;241;43m.\u001b[39;49m\u001b[43mcalculate_grad\u001b[49m\u001b[43m(\u001b[49m\u001b[43m)\u001b[49m\n\u001b[1;32m     99\u001b[0m     \u001b[38;5;28;01mreturn\u001b[39;00m \u001b[38;5;28mself\u001b[39m\u001b[38;5;241m.\u001b[39m_grad\n",
      "File \u001b[0;32m~/dev/neural-networks-from-scratch/neural_networks_from_scratch/gradient_float.py:141\u001b[0m, in \u001b[0;36mGFloat.calculate_grad\u001b[0;34m(self)\u001b[0m\n\u001b[1;32m    139\u001b[0m grad \u001b[38;5;241m=\u001b[39m \u001b[38;5;241m0.0\u001b[39m\n\u001b[1;32m    140\u001b[0m \u001b[38;5;28;01mfor\u001b[39;00m downstream_var, relation, other_var \u001b[38;5;129;01min\u001b[39;00m \u001b[38;5;28mself\u001b[39m\u001b[38;5;241m.\u001b[39mdownstream_data:\n\u001b[0;32m--> 141\u001b[0m     grad \u001b[38;5;241m+\u001b[39m\u001b[38;5;241m=\u001b[39m \u001b[43mdownstream_var\u001b[49m\u001b[38;5;241;43m.\u001b[39;49m\u001b[43mgrad\u001b[49m \u001b[38;5;241m*\u001b[39m \u001b[38;5;28mself\u001b[39m\u001b[38;5;241m.\u001b[39m_calculate_grad_from_downstream_var(\n\u001b[1;32m    142\u001b[0m         downstream_var, relation, other_var\n\u001b[1;32m    143\u001b[0m     )\n\u001b[1;32m    144\u001b[0m \u001b[38;5;28;01mreturn\u001b[39;00m grad\n",
      "    \u001b[0;31m[... skipping similar frames: GFloat.calculate_grad at line 141 (2 times), GFloat.grad at line 98 (2 times)]\u001b[0m\n",
      "File \u001b[0;32m~/dev/neural-networks-from-scratch/neural_networks_from_scratch/gradient_float.py:98\u001b[0m, in \u001b[0;36mGFloat.grad\u001b[0;34m(self)\u001b[0m\n\u001b[1;32m     95\u001b[0m \u001b[38;5;129m@property\u001b[39m\n\u001b[1;32m     96\u001b[0m \u001b[38;5;28;01mdef\u001b[39;00m \u001b[38;5;21mgrad\u001b[39m(\u001b[38;5;28mself\u001b[39m) \u001b[38;5;241m-\u001b[39m\u001b[38;5;241m>\u001b[39m \u001b[38;5;28mfloat\u001b[39m \u001b[38;5;241m|\u001b[39m \u001b[38;5;28;01mNone\u001b[39;00m:\n\u001b[1;32m     97\u001b[0m     \u001b[38;5;28;01mif\u001b[39;00m \u001b[38;5;28mself\u001b[39m\u001b[38;5;241m.\u001b[39m_grad \u001b[38;5;129;01mis\u001b[39;00m \u001b[38;5;28;01mNone\u001b[39;00m:\n\u001b[0;32m---> 98\u001b[0m         \u001b[38;5;28mself\u001b[39m\u001b[38;5;241m.\u001b[39mgrad \u001b[38;5;241m=\u001b[39m \u001b[38;5;28;43mself\u001b[39;49m\u001b[38;5;241;43m.\u001b[39;49m\u001b[43mcalculate_grad\u001b[49m\u001b[43m(\u001b[49m\u001b[43m)\u001b[49m\n\u001b[1;32m     99\u001b[0m     \u001b[38;5;28;01mreturn\u001b[39;00m \u001b[38;5;28mself\u001b[39m\u001b[38;5;241m.\u001b[39m_grad\n",
      "File \u001b[0;32m~/dev/neural-networks-from-scratch/neural_networks_from_scratch/gradient_float.py:141\u001b[0m, in \u001b[0;36mGFloat.calculate_grad\u001b[0;34m(self)\u001b[0m\n\u001b[1;32m    139\u001b[0m grad \u001b[38;5;241m=\u001b[39m \u001b[38;5;241m0.0\u001b[39m\n\u001b[1;32m    140\u001b[0m \u001b[38;5;28;01mfor\u001b[39;00m downstream_var, relation, other_var \u001b[38;5;129;01min\u001b[39;00m \u001b[38;5;28mself\u001b[39m\u001b[38;5;241m.\u001b[39mdownstream_data:\n\u001b[0;32m--> 141\u001b[0m     grad \u001b[38;5;241m+\u001b[39m\u001b[38;5;241m=\u001b[39m downstream_var\u001b[38;5;241m.\u001b[39mgrad \u001b[38;5;241m*\u001b[39m \u001b[38;5;28;43mself\u001b[39;49m\u001b[38;5;241;43m.\u001b[39;49m\u001b[43m_calculate_grad_from_downstream_var\u001b[49m\u001b[43m(\u001b[49m\n\u001b[1;32m    142\u001b[0m \u001b[43m        \u001b[49m\u001b[43mdownstream_var\u001b[49m\u001b[43m,\u001b[49m\u001b[43m \u001b[49m\u001b[43mrelation\u001b[49m\u001b[43m,\u001b[49m\u001b[43m \u001b[49m\u001b[43mother_var\u001b[49m\n\u001b[1;32m    143\u001b[0m \u001b[43m    \u001b[49m\u001b[43m)\u001b[49m\n\u001b[1;32m    144\u001b[0m \u001b[38;5;28;01mreturn\u001b[39;00m grad\n",
      "File \u001b[0;32m~/dev/neural-networks-from-scratch/neural_networks_from_scratch/gradient_float.py:129\u001b[0m, in \u001b[0;36mGFloat._calculate_grad_from_downstream_var\u001b[0;34m(self, downstream_var, relation, other)\u001b[0m\n\u001b[1;32m    126\u001b[0m \u001b[38;5;28;01mif\u001b[39;00m downstream_var \u001b[38;5;129;01mnot\u001b[39;00m \u001b[38;5;129;01min\u001b[39;00m \u001b[38;5;28mself\u001b[39m\u001b[38;5;241m.\u001b[39mdownstream_floats:\n\u001b[1;32m    127\u001b[0m     \u001b[38;5;28;01mraise\u001b[39;00m \u001b[38;5;167;01mRuntimeError\u001b[39;00m(\u001b[38;5;124m\"\u001b[39m\u001b[38;5;124mVariable not downstream\u001b[39m\u001b[38;5;124m\"\u001b[39m)\n\u001b[0;32m--> 129\u001b[0m \u001b[38;5;28;01mreturn\u001b[39;00m \u001b[38;5;28;43mself\u001b[39;49m\u001b[38;5;241;43m.\u001b[39;49m\u001b[43mgrad_funcs\u001b[49m\u001b[43m[\u001b[49m\u001b[43mrelation\u001b[49m\u001b[43m]\u001b[49m(\n\u001b[1;32m    130\u001b[0m     \u001b[38;5;28mfloat\u001b[39m(\u001b[38;5;28mself\u001b[39m),\n\u001b[1;32m    131\u001b[0m     \u001b[38;5;28mfloat\u001b[39m(downstream_var),\n\u001b[1;32m    132\u001b[0m     \u001b[38;5;28mfloat\u001b[39m(other) \u001b[38;5;28;01mif\u001b[39;00m \u001b[38;5;28misinstance\u001b[39m(other, (GFloat, \u001b[38;5;28mfloat\u001b[39m, \u001b[38;5;28mint\u001b[39m)) \u001b[38;5;28;01melse\u001b[39;00m other,\n\u001b[1;32m    133\u001b[0m )\n",
      "\u001b[0;31mKeyError\u001b[0m: 'add__right'"
     ]
    }
   ],
   "source": [
    "from collections import defaultdict\n",
    "from tqdm.notebook  import tqdm\n",
    "from IPython.display import clear_output\n",
    "import seaborn as sns\n",
    "import pandas as pd\n",
    "import matplotlib.pyplot as plt\n",
    "\n",
    "train_steps = int(1e7)\n",
    "learning_rate = 1e-5\n",
    "\n",
    "m = GFloat(1.0, name=\"m\")\n",
    "c = GFloat(1.0, name=\"c\")\n",
    "\n",
    "def func(x, m, c):\n",
    "    return [m * x_ + c for x_ in x]\n",
    "\n",
    "\n",
    "res = defaultdict(list)\n",
    "for i in tqdm(range(train_steps)):\n",
    "    if i % (train_steps // 5) == 0:\n",
    "        learning_rate *= 0.5\n",
    "    \n",
    "    y = func(x, m, c)\n",
    "    loss = sum([(y_ - y_t) ** 2 for y_, y_t in zip(y, y_true)]) / len(x)\n",
    "    loss.set_is_output()\n",
    "\n",
    "\n",
    "    if i % (train_steps // 100) == 0:\n",
    "        print(f\"{i=}, {learning_rate=}, {loss.val=}\")\n",
    "\n",
    "        res[\"i\"].append(i)\n",
    "        res[\"m\"].append(m.val)\n",
    "        res[\"c\"].append(c.val)\n",
    "        res[\"m_grad\"].append(m.grad)\n",
    "        res[\"c_grad\"].append(c.grad)\n",
    "        res[\"loss\"].append(loss.val)\n",
    "\n",
    "        clear_output(wait=True)\n",
    "        plt.clf()\n",
    "\n",
    "        res_df = pd.DataFrame(res)\n",
    "        sns.lineplot(data=res_df, x=\"i\", y=\"m\")\n",
    "        plt.show()\n",
    "        sns.lineplot(data=res_df, x=\"i\", y=\"c\")\n",
    "        plt.show()\n",
    "        sns.lineplot(data=res_df, x=\"i\", y=\"loss\")\n",
    "        plt.show()\n",
    "        sns.lineplot(data=res_df, x=\"i\", y=\"m_grad\")\n",
    "        plt.show()\n",
    "        sns.lineplot(data=res_df, x=\"i\", y=\"c_grad\")\n",
    "        plt.show()\n",
    "\n",
    "    m.update(learning_rate)\n",
    "    c.update(learning_rate)\n"
   ]
  },
  {
   "cell_type": "code",
   "execution_count": 4,
   "metadata": {},
   "outputs": [
    {
     "data": {
      "text/plain": [
       "(GFloat(5.73271906553112, is_updateable=True, name=m),\n",
       " GFloat(5.405422200339835, is_updateable=True, name=c))"
      ]
     },
     "execution_count": 4,
     "metadata": {},
     "output_type": "execute_result"
    }
   ],
   "source": [
    "m, c"
   ]
  },
  {
   "cell_type": "code",
   "execution_count": 5,
   "metadata": {},
   "outputs": [
    {
     "data": {
      "text/plain": [
       "1.129823630930531"
      ]
     },
     "execution_count": 5,
     "metadata": {},
     "output_type": "execute_result"
    }
   ],
   "source": [
    "import numpy as np\n",
    "y_pred = np.array([float(y_) for y_ in func(x, m, c)])\n",
    "np.sum(np.abs(y_pred - y_true) / y_true)"
   ]
  },
  {
   "cell_type": "code",
   "execution_count": null,
   "metadata": {},
   "outputs": [],
   "source": []
  },
  {
   "cell_type": "code",
   "execution_count": null,
   "metadata": {},
   "outputs": [],
   "source": []
  },
  {
   "cell_type": "code",
   "execution_count": null,
   "metadata": {},
   "outputs": [],
   "source": []
  }
 ],
 "metadata": {
  "kernelspec": {
   "display_name": "default_env",
   "language": "python",
   "name": "python3"
  },
  "language_info": {
   "codemirror_mode": {
    "name": "ipython",
    "version": 3
   },
   "file_extension": ".py",
   "mimetype": "text/x-python",
   "name": "python",
   "nbconvert_exporter": "python",
   "pygments_lexer": "ipython3",
   "version": "3.11.3"
  }
 },
 "nbformat": 4,
 "nbformat_minor": 2
}
