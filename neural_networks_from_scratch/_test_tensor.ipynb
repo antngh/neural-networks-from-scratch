{
 "cells": [
  {
   "cell_type": "code",
   "execution_count": 5,
   "metadata": {},
   "outputs": [
    {
     "name": "stderr",
     "output_type": "stream",
     "text": [
      "/Users/anton/dev/.virtual_envs/default_env/lib/python3.11/site-packages/seaborn/_oldcore.py:1119: FutureWarning: use_inf_as_na option is deprecated and will be removed in a future version. Convert inf values to NaN before operating instead.\n",
      "  with pd.option_context('mode.use_inf_as_na', True):\n",
      "/Users/anton/dev/.virtual_envs/default_env/lib/python3.11/site-packages/seaborn/_oldcore.py:1119: FutureWarning: use_inf_as_na option is deprecated and will be removed in a future version. Convert inf values to NaN before operating instead.\n",
      "  with pd.option_context('mode.use_inf_as_na', True):\n"
     ]
    },
    {
     "data": {
      "image/png": "[encoded data removed]",
      "text/plain": [
       "<Figure size 640x480 with 1 Axes>"
      ]
     },
     "metadata": {},
     "output_type": "display_data"
    },
    {
     "ename": "KeyboardInterrupt",
     "evalue": "",
     "output_type": "error",
     "traceback": [
      "\u001b[0;31m---------------------------------------------------------------------------\u001b[0m",
      "\u001b[0;31mKeyboardInterrupt\u001b[0m                         Traceback (most recent call last)",
      "Cell \u001b[0;32mIn[5], line 58\u001b[0m\n\u001b[1;32m     55\u001b[0m \u001b[38;5;28;01mif\u001b[39;00m i \u001b[38;5;241m%\u001b[39m (train_steps \u001b[38;5;241m/\u001b[39m\u001b[38;5;241m/\u001b[39m \u001b[38;5;241m5\u001b[39m) \u001b[38;5;241m==\u001b[39m \u001b[38;5;241m0\u001b[39m:\n\u001b[1;32m     56\u001b[0m     learning_rate \u001b[38;5;241m*\u001b[39m\u001b[38;5;241m=\u001b[39m \u001b[38;5;241m0.5\u001b[39m\n\u001b[0;32m---> 58\u001b[0m y \u001b[38;5;241m=\u001b[39m \u001b[43mfunc\u001b[49m\u001b[43m(\u001b[49m\u001b[43mx\u001b[49m\u001b[43m,\u001b[49m\u001b[43m \u001b[49m\u001b[43mw\u001b[49m\u001b[43m,\u001b[49m\u001b[43m \u001b[49m\u001b[43mb\u001b[49m\u001b[43m)\u001b[49m\n\u001b[1;32m     59\u001b[0m loss \u001b[38;5;241m=\u001b[39m \u001b[38;5;28msum\u001b[39m([(y_ \u001b[38;5;241m-\u001b[39m y_t) \u001b[38;5;241m*\u001b[39m\u001b[38;5;241m*\u001b[39m \u001b[38;5;241m2\u001b[39m \u001b[38;5;28;01mfor\u001b[39;00m y_, y_t \u001b[38;5;129;01min\u001b[39;00m \u001b[38;5;28mzip\u001b[39m(y, y_true)]) \u001b[38;5;241m/\u001b[39m \u001b[38;5;28mlen\u001b[39m(x)\n\u001b[1;32m     61\u001b[0m \u001b[38;5;28;01mif\u001b[39;00m i \u001b[38;5;241m%\u001b[39m (train_steps \u001b[38;5;241m/\u001b[39m\u001b[38;5;241m/\u001b[39m \u001b[38;5;241m1000\u001b[39m) \u001b[38;5;241m==\u001b[39m \u001b[38;5;241m0\u001b[39m:\n",
      "Cell \u001b[0;32mIn[5], line 45\u001b[0m, in \u001b[0;36mfunc\u001b[0;34m(x, w, b)\u001b[0m\n\u001b[1;32m     44\u001b[0m \u001b[38;5;28;01mdef\u001b[39;00m \u001b[38;5;21mfunc\u001b[39m(x, w, b):\n\u001b[0;32m---> 45\u001b[0m     \u001b[38;5;28;01mreturn\u001b[39;00m \u001b[43m[\u001b[49m\n\u001b[1;32m     46\u001b[0m \u001b[43m        \u001b[49m\u001b[43m(\u001b[49m\u001b[43mw2\u001b[49m\u001b[38;5;241;43m.\u001b[39;49m\u001b[43mvecmul\u001b[49m\u001b[43m(\u001b[49m\n\u001b[1;32m     47\u001b[0m \u001b[43m            \u001b[49m\u001b[43m(\u001b[49m\u001b[43mw\u001b[49m\u001b[38;5;241;43m.\u001b[39;49m\u001b[43mvecmul\u001b[49m\u001b[43m(\u001b[49m\u001b[43mx_\u001b[49m\u001b[43m)\u001b[49m\u001b[43m \u001b[49m\u001b[38;5;241;43m+\u001b[39;49m\u001b[43m \u001b[49m\u001b[43mb\u001b[49m\u001b[43m)\u001b[49m\u001b[38;5;241;43m.\u001b[39;49m\u001b[43mapplyfunc\u001b[49m\u001b[43m(\u001b[49m\u001b[43mrelu\u001b[49m\u001b[43m,\u001b[49m\u001b[43m \u001b[49m\u001b[43mgrad_func\u001b[49m\u001b[38;5;241;43m=\u001b[39;49m\u001b[43mrelu_grad\u001b[49m\u001b[43m)\u001b[49m\n\u001b[1;32m     48\u001b[0m \u001b[43m        \u001b[49m\u001b[43m)\u001b[49m\u001b[43m \u001b[49m\u001b[38;5;241;43m+\u001b[39;49m\u001b[43m \u001b[49m\u001b[43mb2\u001b[49m\u001b[43m)\u001b[49m\u001b[38;5;241;43m.\u001b[39;49m\u001b[43mto_gfloat\u001b[49m\u001b[43m(\u001b[49m\u001b[43m)\u001b[49m\n\u001b[1;32m     49\u001b[0m \u001b[43m        \u001b[49m\u001b[38;5;28;43;01mfor\u001b[39;49;00m\u001b[43m \u001b[49m\u001b[43mx_\u001b[49m\u001b[43m \u001b[49m\u001b[38;5;129;43;01min\u001b[39;49;00m\u001b[43m \u001b[49m\u001b[43mx\u001b[49m\n\u001b[1;32m     50\u001b[0m \u001b[43m    \u001b[49m\u001b[43m]\u001b[49m\n",
      "Cell \u001b[0;32mIn[5], line 47\u001b[0m, in \u001b[0;36m<listcomp>\u001b[0;34m(.0)\u001b[0m\n\u001b[1;32m     44\u001b[0m \u001b[38;5;28;01mdef\u001b[39;00m \u001b[38;5;21mfunc\u001b[39m(x, w, b):\n\u001b[1;32m     45\u001b[0m     \u001b[38;5;28;01mreturn\u001b[39;00m [\n\u001b[1;32m     46\u001b[0m         (w2\u001b[38;5;241m.\u001b[39mvecmul(\n\u001b[0;32m---> 47\u001b[0m             (\u001b[43mw\u001b[49m\u001b[38;5;241;43m.\u001b[39;49m\u001b[43mvecmul\u001b[49m\u001b[43m(\u001b[49m\u001b[43mx_\u001b[49m\u001b[43m)\u001b[49m\u001b[43m \u001b[49m\u001b[38;5;241;43m+\u001b[39;49m\u001b[43m \u001b[49m\u001b[43mb\u001b[49m)\u001b[38;5;241m.\u001b[39mapplyfunc(relu, grad_func\u001b[38;5;241m=\u001b[39mrelu_grad)\n\u001b[1;32m     48\u001b[0m         ) \u001b[38;5;241m+\u001b[39m b2)\u001b[38;5;241m.\u001b[39mto_gfloat()\n\u001b[1;32m     49\u001b[0m         \u001b[38;5;28;01mfor\u001b[39;00m x_ \u001b[38;5;129;01min\u001b[39;00m x\n\u001b[1;32m     50\u001b[0m     ]\n",
      "File \u001b[0;32m~/dev/neural-networks-from-scratch/neural_networks_from_scratch/tensor.py:246\u001b[0m, in \u001b[0;36mGTensor.__add__\u001b[0;34m(self, other)\u001b[0m\n\u001b[1;32m    245\u001b[0m \u001b[38;5;28;01mdef\u001b[39;00m \u001b[38;5;21m__add__\u001b[39m(\u001b[38;5;28mself\u001b[39m, other: GTensor \u001b[38;5;241m|\u001b[39m \u001b[38;5;28mfloat\u001b[39m) \u001b[38;5;241m-\u001b[39m\u001b[38;5;241m>\u001b[39m GTensor:\n\u001b[0;32m--> 246\u001b[0m     \u001b[38;5;28;01mreturn\u001b[39;00m \u001b[38;5;28;43mself\u001b[39;49m\u001b[38;5;241;43m.\u001b[39;49m\u001b[43m_elementwise_method\u001b[49m\u001b[43m(\u001b[49m\u001b[43mother\u001b[49m\u001b[43m,\u001b[49m\u001b[43m \u001b[49m\u001b[38;5;28;43;01mlambda\u001b[39;49;00m\u001b[43m \u001b[49m\u001b[43mx\u001b[49m\u001b[43m,\u001b[49m\u001b[43m \u001b[49m\u001b[43my\u001b[49m\u001b[43m:\u001b[49m\u001b[43m \u001b[49m\u001b[43mx\u001b[49m\u001b[43m \u001b[49m\u001b[38;5;241;43m+\u001b[39;49m\u001b[43m \u001b[49m\u001b[43my\u001b[49m\u001b[43m,\u001b[49m\u001b[43m \u001b[49m\u001b[43mmethod_name\u001b[49m\u001b[38;5;241;43m=\u001b[39;49m\u001b[38;5;124;43m\"\u001b[39;49m\u001b[38;5;124;43madd\u001b[39;49m\u001b[38;5;124;43m\"\u001b[39;49m\u001b[43m)\u001b[49m\n",
      "File \u001b[0;32m~/dev/neural-networks-from-scratch/neural_networks_from_scratch/tensor.py:239\u001b[0m, in \u001b[0;36mGTensor._elementwise_method\u001b[0;34m(self, other, func, method_name)\u001b[0m\n\u001b[1;32m    235\u001b[0m \u001b[38;5;28;01mif\u001b[39;00m \u001b[38;5;28mself\u001b[39m\u001b[38;5;241m.\u001b[39mdims \u001b[38;5;241m!=\u001b[39m other_dims \u001b[38;5;129;01mand\u001b[39;00m other_dims \u001b[38;5;241m!=\u001b[39m ():\n\u001b[1;32m    236\u001b[0m     \u001b[38;5;28;01mraise\u001b[39;00m \u001b[38;5;167;01mValueError\u001b[39;00m(\u001b[38;5;124m\"\u001b[39m\u001b[38;5;124mDimensions must match\u001b[39m\u001b[38;5;124m\"\u001b[39m)\n\u001b[1;32m    238\u001b[0m \u001b[38;5;28;01mreturn\u001b[39;00m GTensor(\n\u001b[0;32m--> 239\u001b[0m     values\u001b[38;5;241m=\u001b[39m\u001b[43m_elementwise_method_two_tensors\u001b[49m\u001b[43m(\u001b[49m\n\u001b[1;32m    240\u001b[0m \u001b[43m        \u001b[49m\u001b[38;5;28;43mself\u001b[39;49m\u001b[38;5;241;43m.\u001b[39;49m\u001b[43mvalues\u001b[49m\u001b[43m,\u001b[49m\u001b[43m \u001b[49m\u001b[43mother_values\u001b[49m\u001b[43m,\u001b[49m\u001b[43m \u001b[49m\u001b[38;5;28;43;01mlambda\u001b[39;49;00m\u001b[43m \u001b[49m\u001b[43mx\u001b[49m\u001b[43m,\u001b[49m\u001b[43m \u001b[49m\u001b[43my\u001b[49m\u001b[43m:\u001b[49m\u001b[43m \u001b[49m\u001b[43mfunc\u001b[49m\u001b[43m(\u001b[49m\u001b[43mx\u001b[49m\u001b[43m,\u001b[49m\u001b[43m \u001b[49m\u001b[43my\u001b[49m\u001b[43m)\u001b[49m\n\u001b[1;32m    241\u001b[0m \u001b[43m    \u001b[49m\u001b[43m)\u001b[49m,\n\u001b[1;32m    242\u001b[0m     name\u001b[38;5;241m=\u001b[39m\u001b[38;5;124mf\u001b[39m\u001b[38;5;124m\"\u001b[39m\u001b[38;5;132;01m{\u001b[39;00m\u001b[38;5;28mself\u001b[39m\u001b[38;5;241m.\u001b[39mname\u001b[38;5;132;01m}\u001b[39;00m\u001b[38;5;124m_\u001b[39m\u001b[38;5;132;01m{\u001b[39;00mmethod_name\u001b[38;5;132;01m}\u001b[39;00m\u001b[38;5;124m_\u001b[39m\u001b[38;5;132;01m{\u001b[39;00mother\u001b[38;5;241m.\u001b[39mname\u001b[38;5;132;01m}\u001b[39;00m\u001b[38;5;124m\"\u001b[39m,\n\u001b[1;32m    243\u001b[0m )\n",
      "File \u001b[0;32m~/dev/neural-networks-from-scratch/neural_networks_from_scratch/tensor.py:136\u001b[0m, in \u001b[0;36m_elementwise_method_two_tensors\u001b[0;34m(values1, values2, func)\u001b[0m\n\u001b[1;32m    129\u001b[0m \u001b[38;5;28;01mif\u001b[39;00m \u001b[38;5;28misinstance\u001b[39m(values1, (\u001b[38;5;28mfloat\u001b[39m, \u001b[38;5;28mint\u001b[39m, GFloat)) \u001b[38;5;129;01mand\u001b[39;00m \u001b[38;5;28misinstance\u001b[39m(\n\u001b[1;32m    130\u001b[0m     values2, (\u001b[38;5;28mfloat\u001b[39m, \u001b[38;5;28mint\u001b[39m, GFloat)\n\u001b[1;32m    131\u001b[0m ):\n\u001b[1;32m    132\u001b[0m     \u001b[38;5;28;01mreturn\u001b[39;00m func(values1, values2)\n\u001b[1;32m    134\u001b[0m \u001b[38;5;28;01mreturn\u001b[39;00m [\n\u001b[1;32m    135\u001b[0m     _elementwise_method_two_tensors(v1, v2, func)\n\u001b[0;32m--> 136\u001b[0m     \u001b[38;5;28;01mfor\u001b[39;00m v1, v2 \u001b[38;5;129;01min\u001b[39;00m \u001b[38;5;28;43mzip\u001b[39;49m\u001b[43m(\u001b[49m\u001b[43mvalues1\u001b[49m\u001b[43m,\u001b[49m\u001b[43m \u001b[49m\u001b[43mvalues2\u001b[49m\u001b[43m)\u001b[49m\n\u001b[1;32m    137\u001b[0m ]\n",
      "\u001b[0;31mKeyboardInterrupt\u001b[0m: "
     ]
    }
   ],
   "source": [
    "from collections import defaultdict\n",
    "from tqdm.notebook  import tqdm\n",
    "from IPython.display import clear_output\n",
    "import seaborn as sns\n",
    "import pandas as pd\n",
    "import matplotlib.pyplot as plt\n",
    "from tensor import GTensor\n",
    "import numpy as np\n",
    "\n",
    "train_steps = int(1e7)\n",
    "learning_rate = 1e-5\n",
    "\n",
    "n_features = 2\n",
    "\n",
    "n_weights_layer_1 = 4\n",
    "n_outputs = 1\n",
    "\n",
    "random_num = lambda: np.random.normal(0, 1)\n",
    "\n",
    "w = GTensor(dims=(n_weights_layer_1, n_features), initial_value=random_num, name=\"w\")\n",
    "b = GTensor(dims=(n_weights_layer_1,), initial_value=random_num, name=\"b\")\n",
    "\n",
    "w2 = GTensor(dims=(n_outputs, n_weights_layer_1), initial_value=random_num, name=\"w2\")\n",
    "b2 = GTensor(dims=(n_outputs,), initial_value=random_num, name=\"b2\")\n",
    "\n",
    "x = [\n",
    "    [0.0, 0.0],\n",
    "    [0.0, 1.0],\n",
    "    [1.0, 0.0],\n",
    "    [1.0, 1.0],\n",
    "    [0.0, 2.0],\n",
    "    [2.0, 0.0],\n",
    "    [2.0, 2.0],\n",
    "]\n",
    "\n",
    "y_true = [0.0, 1.0, 1.0, 2.0, 2.0, 2.0, 4.0]\n",
    "\n",
    "def relu(x):\n",
    "    return x if x > 0 else 0\n",
    "\n",
    "def relu_grad(self_var, downstream_var, other_var):\n",
    "    return 1.0 if self_var > 0 else 0\n",
    "\n",
    "def func(x, w, b):\n",
    "    return [\n",
    "        (w2.vecmul(\n",
    "            (w.vecmul(x_) + b).applyfunc(relu, grad_func=relu_grad)\n",
    "        ) + b2).to_gfloat()\n",
    "        for x_ in x\n",
    "    ]\n",
    "\n",
    "\n",
    "res = defaultdict(list)\n",
    "for i in tqdm(range(train_steps)):\n",
    "    if i % (train_steps // 5) == 0:\n",
    "        learning_rate *= 0.5\n",
    "    \n",
    "    y = func(x, w, b)\n",
    "    loss = sum([(y_ - y_t) ** 2 for y_, y_t in zip(y, y_true)]) / len(x)\n",
    "    \n",
    "    if i % (train_steps // 1000) == 0:\n",
    "        print(f\"{i=}, {learning_rate=}, {loss.val=}\")\n",
    "\n",
    "        res[\"i\"].append(i)\n",
    "        res[\"w\"].append(w.values)\n",
    "        res[\"b\"].append(b.values)\n",
    "        res[\"loss\"].append(loss.val)\n",
    "\n",
    "        clear_output(wait=True)\n",
    "        plt.clf()\n",
    "\n",
    "        res_df = pd.DataFrame(res)\n",
    "        sns.lineplot(data=res_df, x=\"i\", y=\"loss\")\n",
    "        plt.show()\n",
    "\n",
    "    loss.update_full_network(learning_rate, clear_grad=True, clear_downstream_data=True)\n"
   ]
  },
  {
   "cell_type": "code",
   "execution_count": 2,
   "metadata": {},
   "outputs": [
    {
     "data": {
      "text/plain": [
       "[GFloat(0.1511653634943807, is_updateable=False, name=b2i0_add_w2i0j0_mul_bi0_add_wi0j0_mul_w_vecmul_otheri0_radd_0_add_wi0j1_mul_w_vecmul_otheri1_applyfunc_relu_radd_0_add_w2i0j1_mul_bi1_add_wi1j0_mul_w_vecmul_otheri0_radd_0_add_wi1j1_mul_w_vecmul_otheri1_applyfunc_relu_add_w2i0j2_mul_bi2_add_wi2j0_mul_w_vecmul_otheri0_radd_0_add_wi2j1_mul_w_vecmul_otheri1_applyfunc_relu_add_w2i0j3_mul_bi3_add_wi3j0_mul_w_vecmul_otheri0_radd_0_add_wi3j1_mul_w_vecmul_otheri1_applyfunc_relu),\n",
       " GFloat(0.9005640545819363, is_updateable=False, name=b2i0_add_w2i0j0_mul_bi0_add_wi0j0_mul_w_vecmul_otheri0_radd_0_add_wi0j1_mul_w_vecmul_otheri1_applyfunc_relu_radd_0_add_w2i0j1_mul_bi1_add_wi1j0_mul_w_vecmul_otheri0_radd_0_add_wi1j1_mul_w_vecmul_otheri1_applyfunc_relu_add_w2i0j2_mul_bi2_add_wi2j0_mul_w_vecmul_otheri0_radd_0_add_wi2j1_mul_w_vecmul_otheri1_applyfunc_relu_add_w2i0j3_mul_bi3_add_wi3j0_mul_w_vecmul_otheri0_radd_0_add_wi3j1_mul_w_vecmul_otheri1_applyfunc_relu),\n",
       " GFloat(1.4230165794297394, is_updateable=False, name=b2i0_add_w2i0j0_mul_bi0_add_wi0j0_mul_w_vecmul_otheri0_radd_0_add_wi0j1_mul_w_vecmul_otheri1_applyfunc_relu_radd_0_add_w2i0j1_mul_bi1_add_wi1j0_mul_w_vecmul_otheri0_radd_0_add_wi1j1_mul_w_vecmul_otheri1_applyfunc_relu_add_w2i0j2_mul_bi2_add_wi2j0_mul_w_vecmul_otheri0_radd_0_add_wi2j1_mul_w_vecmul_otheri1_applyfunc_relu_add_w2i0j3_mul_bi3_add_wi3j0_mul_w_vecmul_otheri0_radd_0_add_wi3j1_mul_w_vecmul_otheri1_applyfunc_relu),\n",
       " GFloat(2.170952207617523, is_updateable=False, name=b2i0_add_w2i0j0_mul_bi0_add_wi0j0_mul_w_vecmul_otheri0_radd_0_add_wi0j1_mul_w_vecmul_otheri1_applyfunc_relu_radd_0_add_w2i0j1_mul_bi1_add_wi1j0_mul_w_vecmul_otheri0_radd_0_add_wi1j1_mul_w_vecmul_otheri1_applyfunc_relu_add_w2i0j2_mul_bi2_add_wi2j0_mul_w_vecmul_otheri0_radd_0_add_wi2j1_mul_w_vecmul_otheri1_applyfunc_relu_add_w2i0j3_mul_bi3_add_wi3j0_mul_w_vecmul_otheri0_radd_0_add_wi3j1_mul_w_vecmul_otheri1_applyfunc_relu),\n",
       " GFloat(1.539931816384653, is_updateable=False, name=b2i0_add_w2i0j0_mul_bi0_add_wi0j0_mul_w_vecmul_otheri0_radd_0_add_wi0j1_mul_w_vecmul_otheri1_applyfunc_relu_radd_0_add_w2i0j1_mul_bi1_add_wi1j0_mul_w_vecmul_otheri0_radd_0_add_wi1j1_mul_w_vecmul_otheri1_applyfunc_relu_add_w2i0j2_mul_bi2_add_wi2j0_mul_w_vecmul_otheri0_radd_0_add_wi2j1_mul_w_vecmul_otheri1_applyfunc_relu_add_w2i0j3_mul_bi3_add_wi3j0_mul_w_vecmul_otheri0_radd_0_add_wi3j1_mul_w_vecmul_otheri1_applyfunc_relu),\n",
       " GFloat(1.7864345287526078, is_updateable=False, name=b2i0_add_w2i0j0_mul_bi0_add_wi0j0_mul_w_vecmul_otheri0_radd_0_add_wi0j1_mul_w_vecmul_otheri1_applyfunc_relu_radd_0_add_w2i0j1_mul_bi1_add_wi1j0_mul_w_vecmul_otheri0_radd_0_add_wi1j1_mul_w_vecmul_otheri1_applyfunc_relu_add_w2i0j2_mul_bi2_add_wi2j0_mul_w_vecmul_otheri0_radd_0_add_wi2j1_mul_w_vecmul_otheri1_applyfunc_relu_add_w2i0j3_mul_bi3_add_wi3j0_mul_w_vecmul_otheri0_radd_0_add_wi3j1_mul_w_vecmul_otheri1_applyfunc_relu),\n",
       " GFloat(4.118734307716207, is_updateable=False, name=b2i0_add_w2i0j0_mul_bi0_add_wi0j0_mul_w_vecmul_otheri0_radd_0_add_wi0j1_mul_w_vecmul_otheri1_applyfunc_relu_radd_0_add_w2i0j1_mul_bi1_add_wi1j0_mul_w_vecmul_otheri0_radd_0_add_wi1j1_mul_w_vecmul_otheri1_applyfunc_relu_add_w2i0j2_mul_bi2_add_wi2j0_mul_w_vecmul_otheri0_radd_0_add_wi2j1_mul_w_vecmul_otheri1_applyfunc_relu_add_w2i0j3_mul_bi3_add_wi3j0_mul_w_vecmul_otheri0_radd_0_add_wi3j1_mul_w_vecmul_otheri1_applyfunc_relu)]"
      ]
     },
     "execution_count": 2,
     "metadata": {},
     "output_type": "execute_result"
    }
   ],
   "source": [
    "y = func(x, w, b)\n",
    "y"
   ]
  },
  {
   "cell_type": "code",
   "execution_count": 3,
   "metadata": {},
   "outputs": [
    {
     "data": {
      "text/plain": [
       "[0.0, 1.0, 1.0, 2.0, 2.0, 2.0, 4.0]"
      ]
     },
     "execution_count": 3,
     "metadata": {},
     "output_type": "execute_result"
    }
   ],
   "source": [
    "y_true"
   ]
  },
  {
   "cell_type": "code",
   "execution_count": null,
   "metadata": {},
   "outputs": [
    {
     "data": {
      "text/plain": [
       "{'add': <function gradient_float.<lambda>(self_var, downstream_var, other_var)>,\n",
       " 'radd': <function gradient_float.<lambda>(self_var, downstream_var, other_var)>,\n",
       " 'mul': <function gradient_float.<lambda>(self_var, downstream_var, other_var)>,\n",
       " 'rmul': <function gradient_float.<lambda>(self_var, downstream_var, other_var)>,\n",
       " 'sub': <function gradient_float.<lambda>(self_var, downstream_var, other_var)>,\n",
       " 'rsub': <function gradient_float.<lambda>(self_var, downstream_var, other_var)>,\n",
       " 'div': <function gradient_float.<lambda>(self_var, downstream_var, other_var)>,\n",
       " 'rdiv': <function gradient_float.<lambda>(self_var, downstream_var, other_var)>,\n",
       " 'pow': <function gradient_float.<lambda>(self_var, downstream_var, other_var)>}"
      ]
     },
     "execution_count": 3,
     "metadata": {},
     "output_type": "execute_result"
    }
   ],
   "source": [
    "from gradient_float import GRAD_FUNCS\n",
    "GRAD_FUNCS"
   ]
  },
  {
   "cell_type": "code",
   "execution_count": null,
   "metadata": {},
   "outputs": [],
   "source": []
  },
  {
   "cell_type": "code",
   "execution_count": null,
   "metadata": {},
   "outputs": [
    {
     "ename": "NameError",
     "evalue": "name 'setattribute' is not defined",
     "output_type": "error",
     "traceback": [
      "\u001b[0;31m---------------------------------------------------------------------------\u001b[0m",
      "\u001b[0;31mNameError\u001b[0m                                 Traceback (most recent call last)",
      "Cell \u001b[0;32mIn[15], line 14\u001b[0m\n\u001b[1;32m      9\u001b[0m     \u001b[38;5;129m@classmethod\u001b[39m\n\u001b[1;32m     10\u001b[0m     \u001b[38;5;28;01mdef\u001b[39;00m \u001b[38;5;21mgrad\u001b[39m(self_var, downstream_var, other_var):\n\u001b[1;32m     11\u001b[0m         \u001b[38;5;28;01mreturn\u001b[39;00m \u001b[38;5;241m1.0\u001b[39m \u001b[38;5;28;01mif\u001b[39;00m self_var \u001b[38;5;241m>\u001b[39m \u001b[38;5;241m0\u001b[39m \u001b[38;5;28;01melse\u001b[39;00m \u001b[38;5;241m0\u001b[39m\n\u001b[0;32m---> 14\u001b[0m r \u001b[38;5;241m=\u001b[39m \u001b[43mRelu\u001b[49m\u001b[43m(\u001b[49m\u001b[43m)\u001b[49m\n\u001b[1;32m     15\u001b[0m r\u001b[38;5;241m.\u001b[39mforward\u001b[38;5;241m.\u001b[39m\u001b[38;5;18m__name__\u001b[39m\n",
      "Cell \u001b[0;32mIn[15], line 3\u001b[0m, in \u001b[0;36mRelu.__init__\u001b[0;34m(self)\u001b[0m\n\u001b[1;32m      2\u001b[0m \u001b[38;5;28;01mdef\u001b[39;00m \u001b[38;5;21m__init__\u001b[39m(\u001b[38;5;28mself\u001b[39m):\n\u001b[0;32m----> 3\u001b[0m     \u001b[43msetattribute\u001b[49m(\u001b[38;5;28mself\u001b[39m\u001b[38;5;241m.\u001b[39mforward, \u001b[38;5;124m\"\u001b[39m\u001b[38;5;124m__name__\u001b[39m\u001b[38;5;124m\"\u001b[39m, \u001b[38;5;124mf\u001b[39m\u001b[38;5;124m\"\u001b[39m\u001b[38;5;132;01m{\u001b[39;00m\u001b[38;5;28mtype\u001b[39m(\u001b[38;5;28mself\u001b[39m)\u001b[38;5;132;01m}\u001b[39;00m\u001b[38;5;124m_forward\u001b[39m\u001b[38;5;124m\"\u001b[39m)\n",
      "\u001b[0;31mNameError\u001b[0m: name 'setattribute' is not defined"
     ]
    }
   ],
   "source": [
    "class Relu:\n",
    "    def __init__(self):\n",
    "        self.forward.__name__ = f\"{type(self)}_forward\"\n",
    "\n",
    "    @classmethod\n",
    "    def forward(self_var):\n",
    "        return self_var if self_var > 0 else 0\n",
    "\n",
    "    @classmethod\n",
    "    def grad(self_var, downstream_var, other_var):\n",
    "        return 1.0 if self_var > 0 else 0\n",
    "\n",
    "\n",
    "r = Relu()\n",
    "r.forward.__name__"
   ]
  },
  {
   "cell_type": "code",
   "execution_count": null,
   "metadata": {},
   "outputs": [],
   "source": []
  }
 ],
 "metadata": {
  "kernelspec": {
   "display_name": "default_env",
   "language": "python",
   "name": "python3"
  },
  "language_info": {
   "codemirror_mode": {
    "name": "ipython",
    "version": 3
   },
   "file_extension": ".py",
   "mimetype": "text/x-python",
   "name": "python",
   "nbconvert_exporter": "python",
   "pygments_lexer": "ipython3",
   "version": "3.11.3"
  }
 },
 "nbformat": 4,
 "nbformat_minor": 2
}
