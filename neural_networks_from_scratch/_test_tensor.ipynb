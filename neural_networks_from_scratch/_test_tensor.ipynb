{
 "cells": [
  {
   "cell_type": "code",
   "execution_count": 1,
   "metadata": {},
   "outputs": [
    {
     "name": "stderr",
     "output_type": "stream",
     "text": [
      "/Users/anton/dev/.virtual_envs/default_env/lib/python3.11/site-packages/seaborn/_oldcore.py:1119: FutureWarning: use_inf_as_na option is deprecated and will be removed in a future version. Convert inf values to NaN before operating instead.\n",
      "  with pd.option_context('mode.use_inf_as_na', True):\n",
      "/Users/anton/dev/.virtual_envs/default_env/lib/python3.11/site-packages/seaborn/_oldcore.py:1119: FutureWarning: use_inf_as_na option is deprecated and will be removed in a future version. Convert inf values to NaN before operating instead.\n",
      "  with pd.option_context('mode.use_inf_as_na', True):\n"
     ]
    },
    {
     "data": {
      "image/png": "[encoded data removed]",
      "text/plain": [
       "<Figure size 640x480 with 1 Axes>"
      ]
     },
     "metadata": {},
     "output_type": "display_data"
    },
    {
     "ename": "KeyboardInterrupt",
     "evalue": "",
     "output_type": "error",
     "traceback": [
      "\u001b[0;31m---------------------------------------------------------------------------\u001b[0m",
      "\u001b[0;31mKeyboardInterrupt\u001b[0m                         Traceback (most recent call last)",
      "Cell \u001b[0;32mIn[1], line 76\u001b[0m\n\u001b[1;32m     73\u001b[0m     sns\u001b[38;5;241m.\u001b[39mlineplot(data\u001b[38;5;241m=\u001b[39mres_df, x\u001b[38;5;241m=\u001b[39m\u001b[38;5;124m\"\u001b[39m\u001b[38;5;124mi\u001b[39m\u001b[38;5;124m\"\u001b[39m, y\u001b[38;5;241m=\u001b[39m\u001b[38;5;124m\"\u001b[39m\u001b[38;5;124mloss\u001b[39m\u001b[38;5;124m\"\u001b[39m)\n\u001b[1;32m     74\u001b[0m     plt\u001b[38;5;241m.\u001b[39mshow()\n\u001b[0;32m---> 76\u001b[0m \u001b[43mloss\u001b[49m\u001b[38;5;241;43m.\u001b[39;49m\u001b[43mupdate_full_network\u001b[49m\u001b[43m(\u001b[49m\u001b[43mlearning_rate\u001b[49m\u001b[43m,\u001b[49m\u001b[43m \u001b[49m\u001b[43mclear_grad\u001b[49m\u001b[38;5;241;43m=\u001b[39;49m\u001b[38;5;28;43;01mTrue\u001b[39;49;00m\u001b[43m,\u001b[49m\u001b[43m \u001b[49m\u001b[43mclear_downstream_data\u001b[49m\u001b[38;5;241;43m=\u001b[39;49m\u001b[38;5;28;43;01mTrue\u001b[39;49;00m\u001b[43m)\u001b[49m\n",
      "File \u001b[0;32m~/dev/neural-networks-from-scratch/neural_networks_from_scratch/gradient_float.py:116\u001b[0m, in \u001b[0;36mGFloat.update_full_network\u001b[0;34m(self, lr, clear_grad, clear_downstream_data)\u001b[0m\n\u001b[1;32m    113\u001b[0m \u001b[38;5;28mself\u001b[39m\u001b[38;5;241m.\u001b[39mset_is_output()\n\u001b[1;32m    115\u001b[0m \u001b[38;5;28;01mfor\u001b[39;00m gfloat \u001b[38;5;129;01min\u001b[39;00m \u001b[38;5;28mself\u001b[39m\u001b[38;5;241m.\u001b[39mall_upstream_floats:\n\u001b[0;32m--> 116\u001b[0m     \u001b[43mgfloat\u001b[49m\u001b[38;5;241;43m.\u001b[39;49m\u001b[43mupdate\u001b[49m\u001b[43m(\u001b[49m\u001b[43mlr\u001b[49m\u001b[38;5;241;43m=\u001b[39;49m\u001b[43mlr\u001b[49m\u001b[43m,\u001b[49m\u001b[43m \u001b[49m\u001b[43mclear_grad\u001b[49m\u001b[38;5;241;43m=\u001b[39;49m\u001b[38;5;28;43;01mFalse\u001b[39;49;00m\u001b[43m,\u001b[49m\u001b[43m \u001b[49m\u001b[43mclear_downstream_data\u001b[49m\u001b[38;5;241;43m=\u001b[39;49m\u001b[38;5;28;43;01mFalse\u001b[39;49;00m\u001b[43m)\u001b[49m\n\u001b[1;32m    118\u001b[0m \u001b[38;5;28;01mif\u001b[39;00m clear_grad:\n\u001b[1;32m    119\u001b[0m     \u001b[38;5;28mself\u001b[39m\u001b[38;5;241m.\u001b[39mclear_grad_full_network()\n",
      "File \u001b[0;32m~/dev/neural-networks-from-scratch/neural_networks_from_scratch/gradient_float.py:102\u001b[0m, in \u001b[0;36mGFloat.update\u001b[0;34m(self, lr, clear_grad, clear_downstream_data)\u001b[0m\n\u001b[1;32m    100\u001b[0m \u001b[38;5;28;01mdef\u001b[39;00m \u001b[38;5;21mupdate\u001b[39m(\u001b[38;5;28mself\u001b[39m, lr: \u001b[38;5;28mfloat\u001b[39m, clear_grad\u001b[38;5;241m=\u001b[39m\u001b[38;5;28;01mTrue\u001b[39;00m, clear_downstream_data\u001b[38;5;241m=\u001b[39m\u001b[38;5;28;01mTrue\u001b[39;00m) \u001b[38;5;241m-\u001b[39m\u001b[38;5;241m>\u001b[39m \u001b[38;5;28;01mNone\u001b[39;00m:\n\u001b[1;32m    101\u001b[0m     \u001b[38;5;28;01mif\u001b[39;00m \u001b[38;5;28mself\u001b[39m\u001b[38;5;241m.\u001b[39mis_updateable:\n\u001b[0;32m--> 102\u001b[0m         \u001b[38;5;28mself\u001b[39m\u001b[38;5;241m.\u001b[39mval \u001b[38;5;241m=\u001b[39m \u001b[38;5;28mself\u001b[39m\u001b[38;5;241m.\u001b[39mval \u001b[38;5;241m-\u001b[39m lr \u001b[38;5;241m*\u001b[39m \u001b[38;5;28;43mself\u001b[39;49m\u001b[38;5;241;43m.\u001b[39;49m\u001b[43mgrad\u001b[49m\n\u001b[1;32m    104\u001b[0m     \u001b[38;5;28;01mif\u001b[39;00m clear_grad:\n\u001b[1;32m    105\u001b[0m         \u001b[38;5;28mself\u001b[39m\u001b[38;5;241m.\u001b[39mclear_grad()\n",
      "File \u001b[0;32m~/dev/neural-networks-from-scratch/neural_networks_from_scratch/gradient_float.py:54\u001b[0m, in \u001b[0;36mGFloat.grad\u001b[0;34m(self)\u001b[0m\n\u001b[1;32m     51\u001b[0m \u001b[38;5;129m@property\u001b[39m\n\u001b[1;32m     52\u001b[0m \u001b[38;5;28;01mdef\u001b[39;00m \u001b[38;5;21mgrad\u001b[39m(\u001b[38;5;28mself\u001b[39m) \u001b[38;5;241m-\u001b[39m\u001b[38;5;241m>\u001b[39m \u001b[38;5;28mfloat\u001b[39m \u001b[38;5;241m|\u001b[39m \u001b[38;5;28;01mNone\u001b[39;00m:\n\u001b[1;32m     53\u001b[0m     \u001b[38;5;28;01mif\u001b[39;00m \u001b[38;5;28mself\u001b[39m\u001b[38;5;241m.\u001b[39m_grad \u001b[38;5;129;01mis\u001b[39;00m \u001b[38;5;28;01mNone\u001b[39;00m:\n\u001b[0;32m---> 54\u001b[0m         \u001b[38;5;28mself\u001b[39m\u001b[38;5;241m.\u001b[39mgrad \u001b[38;5;241m=\u001b[39m \u001b[38;5;28;43mself\u001b[39;49m\u001b[38;5;241;43m.\u001b[39;49m\u001b[43mcalculate_grad\u001b[49m\u001b[43m(\u001b[49m\u001b[43m)\u001b[49m\n\u001b[1;32m     55\u001b[0m     \u001b[38;5;28;01mreturn\u001b[39;00m \u001b[38;5;28mself\u001b[39m\u001b[38;5;241m.\u001b[39m_grad\n",
      "File \u001b[0;32m~/dev/neural-networks-from-scratch/neural_networks_from_scratch/gradient_float.py:95\u001b[0m, in \u001b[0;36mGFloat.calculate_grad\u001b[0;34m(self)\u001b[0m\n\u001b[1;32m     93\u001b[0m grad \u001b[38;5;241m=\u001b[39m \u001b[38;5;241m0.0\u001b[39m\n\u001b[1;32m     94\u001b[0m \u001b[38;5;28;01mfor\u001b[39;00m downstream_var, relation, other_var \u001b[38;5;129;01min\u001b[39;00m \u001b[38;5;28mself\u001b[39m\u001b[38;5;241m.\u001b[39mdownstream_data:\n\u001b[0;32m---> 95\u001b[0m     grad \u001b[38;5;241m+\u001b[39m\u001b[38;5;241m=\u001b[39m \u001b[43mdownstream_var\u001b[49m\u001b[38;5;241;43m.\u001b[39;49m\u001b[43mgrad\u001b[49m \u001b[38;5;241m*\u001b[39m \u001b[38;5;28mself\u001b[39m\u001b[38;5;241m.\u001b[39m_grad_fn(\n\u001b[1;32m     96\u001b[0m         downstream_var, relation, other_var\n\u001b[1;32m     97\u001b[0m     )\n\u001b[1;32m     98\u001b[0m \u001b[38;5;28;01mreturn\u001b[39;00m grad\n",
      "File \u001b[0;32m~/dev/neural-networks-from-scratch/neural_networks_from_scratch/gradient_float.py:54\u001b[0m, in \u001b[0;36mGFloat.grad\u001b[0;34m(self)\u001b[0m\n\u001b[1;32m     51\u001b[0m \u001b[38;5;129m@property\u001b[39m\n\u001b[1;32m     52\u001b[0m \u001b[38;5;28;01mdef\u001b[39;00m \u001b[38;5;21mgrad\u001b[39m(\u001b[38;5;28mself\u001b[39m) \u001b[38;5;241m-\u001b[39m\u001b[38;5;241m>\u001b[39m \u001b[38;5;28mfloat\u001b[39m \u001b[38;5;241m|\u001b[39m \u001b[38;5;28;01mNone\u001b[39;00m:\n\u001b[1;32m     53\u001b[0m     \u001b[38;5;28;01mif\u001b[39;00m \u001b[38;5;28mself\u001b[39m\u001b[38;5;241m.\u001b[39m_grad \u001b[38;5;129;01mis\u001b[39;00m \u001b[38;5;28;01mNone\u001b[39;00m:\n\u001b[0;32m---> 54\u001b[0m         \u001b[38;5;28mself\u001b[39m\u001b[38;5;241m.\u001b[39mgrad \u001b[38;5;241m=\u001b[39m \u001b[38;5;28;43mself\u001b[39;49m\u001b[38;5;241;43m.\u001b[39;49m\u001b[43mcalculate_grad\u001b[49m\u001b[43m(\u001b[49m\u001b[43m)\u001b[49m\n\u001b[1;32m     55\u001b[0m     \u001b[38;5;28;01mreturn\u001b[39;00m \u001b[38;5;28mself\u001b[39m\u001b[38;5;241m.\u001b[39m_grad\n",
      "File \u001b[0;32m~/dev/neural-networks-from-scratch/neural_networks_from_scratch/gradient_float.py:95\u001b[0m, in \u001b[0;36mGFloat.calculate_grad\u001b[0;34m(self)\u001b[0m\n\u001b[1;32m     93\u001b[0m grad \u001b[38;5;241m=\u001b[39m \u001b[38;5;241m0.0\u001b[39m\n\u001b[1;32m     94\u001b[0m \u001b[38;5;28;01mfor\u001b[39;00m downstream_var, relation, other_var \u001b[38;5;129;01min\u001b[39;00m \u001b[38;5;28mself\u001b[39m\u001b[38;5;241m.\u001b[39mdownstream_data:\n\u001b[0;32m---> 95\u001b[0m     grad \u001b[38;5;241m+\u001b[39m\u001b[38;5;241m=\u001b[39m downstream_var\u001b[38;5;241m.\u001b[39mgrad \u001b[38;5;241m*\u001b[39m \u001b[38;5;28;43mself\u001b[39;49m\u001b[38;5;241;43m.\u001b[39;49m\u001b[43m_grad_fn\u001b[49m\u001b[43m(\u001b[49m\n\u001b[1;32m     96\u001b[0m \u001b[43m        \u001b[49m\u001b[43mdownstream_var\u001b[49m\u001b[43m,\u001b[49m\u001b[43m \u001b[49m\u001b[43mrelation\u001b[49m\u001b[43m,\u001b[49m\u001b[43m \u001b[49m\u001b[43mother_var\u001b[49m\n\u001b[1;32m     97\u001b[0m \u001b[43m    \u001b[49m\u001b[43m)\u001b[49m\n\u001b[1;32m     98\u001b[0m \u001b[38;5;28;01mreturn\u001b[39;00m grad\n",
      "File \u001b[0;32m~/dev/neural-networks-from-scratch/neural_networks_from_scratch/gradient_float.py:86\u001b[0m, in \u001b[0;36mGFloat._grad_fn\u001b[0;34m(self, downstream_var, relation, other)\u001b[0m\n\u001b[1;32m     80\u001b[0m \u001b[38;5;28;01mif\u001b[39;00m downstream_var \u001b[38;5;129;01mnot\u001b[39;00m \u001b[38;5;129;01min\u001b[39;00m \u001b[38;5;28mself\u001b[39m\u001b[38;5;241m.\u001b[39mdownstream_floats:\n\u001b[1;32m     81\u001b[0m     \u001b[38;5;28;01mraise\u001b[39;00m \u001b[38;5;167;01mRuntimeError\u001b[39;00m(\u001b[38;5;124m\"\u001b[39m\u001b[38;5;124mVariable not downstream\u001b[39m\u001b[38;5;124m\"\u001b[39m)\n\u001b[1;32m     83\u001b[0m \u001b[38;5;28;01mreturn\u001b[39;00m \u001b[38;5;28mself\u001b[39m\u001b[38;5;241m.\u001b[39mgrad_funcs[relation](\n\u001b[1;32m     84\u001b[0m     \u001b[38;5;28mfloat\u001b[39m(\u001b[38;5;28mself\u001b[39m),\n\u001b[1;32m     85\u001b[0m     \u001b[38;5;28mfloat\u001b[39m(downstream_var),\n\u001b[0;32m---> 86\u001b[0m     \u001b[38;5;28mfloat\u001b[39m(other) \u001b[38;5;28;01mif\u001b[39;00m \u001b[38;5;28misinstance\u001b[39m(other, (GFloat, \u001b[38;5;28mfloat\u001b[39m, \u001b[38;5;28mint\u001b[39m)) \u001b[38;5;28;01melse\u001b[39;00m other,\n\u001b[1;32m     87\u001b[0m )\n",
      "File \u001b[0;32m~/dev/neural-networks-from-scratch/neural_networks_from_scratch/gradient_float.py:156\u001b[0m, in \u001b[0;36mGFloat.__float__\u001b[0;34m(self)\u001b[0m\n\u001b[1;32m    153\u001b[0m     result\u001b[38;5;241m.\u001b[39mupstream_floats\u001b[38;5;241m.\u001b[39mappend(\u001b[38;5;28mself\u001b[39m)\n\u001b[1;32m    154\u001b[0m     \u001b[38;5;28;01mreturn\u001b[39;00m result\n\u001b[0;32m--> 156\u001b[0m \u001b[38;5;28;01mdef\u001b[39;00m \u001b[38;5;21m__float__\u001b[39m(\u001b[38;5;28mself\u001b[39m) \u001b[38;5;241m-\u001b[39m\u001b[38;5;241m>\u001b[39m \u001b[38;5;28mfloat\u001b[39m:\n\u001b[1;32m    157\u001b[0m     \u001b[38;5;28;01mreturn\u001b[39;00m \u001b[38;5;28mfloat\u001b[39m(\u001b[38;5;28mself\u001b[39m\u001b[38;5;241m.\u001b[39mval)\n\u001b[1;32m    159\u001b[0m \u001b[38;5;28;01mdef\u001b[39;00m \u001b[38;5;21m__add__\u001b[39m(\u001b[38;5;28mself\u001b[39m, other: GFloat \u001b[38;5;241m|\u001b[39m \u001b[38;5;28mfloat\u001b[39m) \u001b[38;5;241m-\u001b[39m\u001b[38;5;241m>\u001b[39m GFloat:\n",
      "\u001b[0;31mKeyboardInterrupt\u001b[0m: "
     ]
    }
   ],
   "source": [
    "from collections import defaultdict\n",
    "from tqdm.notebook  import tqdm\n",
    "from IPython.display import clear_output\n",
    "import seaborn as sns\n",
    "import pandas as pd\n",
    "import matplotlib.pyplot as plt\n",
    "from tensor import GTensor\n",
    "import numpy as np\n",
    "\n",
    "train_steps = int(1e7)\n",
    "learning_rate = 1e-5\n",
    "\n",
    "n_features = 2\n",
    "\n",
    "n_weights_layer_1 = 4\n",
    "n_outputs = 1\n",
    "\n",
    "random_num = lambda: np.random.normal(0, 1)\n",
    "\n",
    "w = GTensor(dims=(n_weights_layer_1, n_features), initial_value=random_num, name=\"w\")\n",
    "b = GTensor(dims=(n_weights_layer_1,), initial_value=random_num, name=\"b\")\n",
    "\n",
    "w2 = GTensor(dims=(n_outputs, n_weights_layer_1), initial_value=random_num, name=\"w2\")\n",
    "b2 = GTensor(dims=(n_outputs,), initial_value=random_num, name=\"b2\")\n",
    "\n",
    "x = [\n",
    "    [0.0, 0.0],\n",
    "    [0.0, 1.0],\n",
    "    [1.0, 0.0],\n",
    "    [1.0, 1.0],\n",
    "    [0.0, 2.0],\n",
    "    [2.0, 0.0],\n",
    "    [2.0, 2.0],\n",
    "]\n",
    "\n",
    "y_true = [0.0, 1.0, 1.0, 2.0, 2.0, 2.0, 4.0]\n",
    "\n",
    "def relu(x):\n",
    "    return x if x > 0 else 0\n",
    "\n",
    "def relu_grad(self_var, downstream_var, other_var):\n",
    "    return 1.0 if self_var > 0 else 0\n",
    "\n",
    "def func(x, w, b):\n",
    "    return [\n",
    "        b2.to_gfloat() + w2.vecmul(\n",
    "            (b + w.vecmul(x_)).applyfunc(relu, grad_func=relu_grad)\n",
    "        ).to_gfloat()\n",
    "        for x_ in x\n",
    "    ]\n",
    "\n",
    "\n",
    "res = defaultdict(list)\n",
    "for i in tqdm(range(train_steps)):\n",
    "    if i % (train_steps // 5) == 0:\n",
    "        learning_rate *= 0.5\n",
    "    \n",
    "    y = func(x, w, b)\n",
    "    loss = sum([(y_ - y_t) ** 2 for y_, y_t in zip(y, y_true)]) / len(x)\n",
    "    \n",
    "    if i % (train_steps // 1000) == 0:\n",
    "        print(f\"{i=}, {learning_rate=}, {loss.val=}\")\n",
    "\n",
    "        res[\"i\"].append(i)\n",
    "        res[\"w\"].append(w.values)\n",
    "        res[\"b\"].append(b.values)\n",
    "        res[\"loss\"].append(loss.val)\n",
    "\n",
    "        clear_output(wait=True)\n",
    "        plt.clf()\n",
    "\n",
    "        res_df = pd.DataFrame(res)\n",
    "        sns.lineplot(data=res_df, x=\"i\", y=\"loss\")\n",
    "        plt.show()\n",
    "\n",
    "    loss.update_full_network(learning_rate, clear_grad=True, clear_downstream_data=True)\n"
   ]
  },
  {
   "cell_type": "code",
   "execution_count": 2,
   "metadata": {},
   "outputs": [
    {
     "data": {
      "text/plain": [
       "[GFloat(0.1511653634943807, is_updateable=False, name=b2i0_add_w2i0j0_mul_bi0_add_wi0j0_mul_w_vecmul_otheri0_radd_0_add_wi0j1_mul_w_vecmul_otheri1_applyfunc_relu_radd_0_add_w2i0j1_mul_bi1_add_wi1j0_mul_w_vecmul_otheri0_radd_0_add_wi1j1_mul_w_vecmul_otheri1_applyfunc_relu_add_w2i0j2_mul_bi2_add_wi2j0_mul_w_vecmul_otheri0_radd_0_add_wi2j1_mul_w_vecmul_otheri1_applyfunc_relu_add_w2i0j3_mul_bi3_add_wi3j0_mul_w_vecmul_otheri0_radd_0_add_wi3j1_mul_w_vecmul_otheri1_applyfunc_relu),\n",
       " GFloat(0.9005640545819363, is_updateable=False, name=b2i0_add_w2i0j0_mul_bi0_add_wi0j0_mul_w_vecmul_otheri0_radd_0_add_wi0j1_mul_w_vecmul_otheri1_applyfunc_relu_radd_0_add_w2i0j1_mul_bi1_add_wi1j0_mul_w_vecmul_otheri0_radd_0_add_wi1j1_mul_w_vecmul_otheri1_applyfunc_relu_add_w2i0j2_mul_bi2_add_wi2j0_mul_w_vecmul_otheri0_radd_0_add_wi2j1_mul_w_vecmul_otheri1_applyfunc_relu_add_w2i0j3_mul_bi3_add_wi3j0_mul_w_vecmul_otheri0_radd_0_add_wi3j1_mul_w_vecmul_otheri1_applyfunc_relu),\n",
       " GFloat(1.4230165794297394, is_updateable=False, name=b2i0_add_w2i0j0_mul_bi0_add_wi0j0_mul_w_vecmul_otheri0_radd_0_add_wi0j1_mul_w_vecmul_otheri1_applyfunc_relu_radd_0_add_w2i0j1_mul_bi1_add_wi1j0_mul_w_vecmul_otheri0_radd_0_add_wi1j1_mul_w_vecmul_otheri1_applyfunc_relu_add_w2i0j2_mul_bi2_add_wi2j0_mul_w_vecmul_otheri0_radd_0_add_wi2j1_mul_w_vecmul_otheri1_applyfunc_relu_add_w2i0j3_mul_bi3_add_wi3j0_mul_w_vecmul_otheri0_radd_0_add_wi3j1_mul_w_vecmul_otheri1_applyfunc_relu),\n",
       " GFloat(2.170952207617523, is_updateable=False, name=b2i0_add_w2i0j0_mul_bi0_add_wi0j0_mul_w_vecmul_otheri0_radd_0_add_wi0j1_mul_w_vecmul_otheri1_applyfunc_relu_radd_0_add_w2i0j1_mul_bi1_add_wi1j0_mul_w_vecmul_otheri0_radd_0_add_wi1j1_mul_w_vecmul_otheri1_applyfunc_relu_add_w2i0j2_mul_bi2_add_wi2j0_mul_w_vecmul_otheri0_radd_0_add_wi2j1_mul_w_vecmul_otheri1_applyfunc_relu_add_w2i0j3_mul_bi3_add_wi3j0_mul_w_vecmul_otheri0_radd_0_add_wi3j1_mul_w_vecmul_otheri1_applyfunc_relu),\n",
       " GFloat(1.539931816384653, is_updateable=False, name=b2i0_add_w2i0j0_mul_bi0_add_wi0j0_mul_w_vecmul_otheri0_radd_0_add_wi0j1_mul_w_vecmul_otheri1_applyfunc_relu_radd_0_add_w2i0j1_mul_bi1_add_wi1j0_mul_w_vecmul_otheri0_radd_0_add_wi1j1_mul_w_vecmul_otheri1_applyfunc_relu_add_w2i0j2_mul_bi2_add_wi2j0_mul_w_vecmul_otheri0_radd_0_add_wi2j1_mul_w_vecmul_otheri1_applyfunc_relu_add_w2i0j3_mul_bi3_add_wi3j0_mul_w_vecmul_otheri0_radd_0_add_wi3j1_mul_w_vecmul_otheri1_applyfunc_relu),\n",
       " GFloat(1.7864345287526078, is_updateable=False, name=b2i0_add_w2i0j0_mul_bi0_add_wi0j0_mul_w_vecmul_otheri0_radd_0_add_wi0j1_mul_w_vecmul_otheri1_applyfunc_relu_radd_0_add_w2i0j1_mul_bi1_add_wi1j0_mul_w_vecmul_otheri0_radd_0_add_wi1j1_mul_w_vecmul_otheri1_applyfunc_relu_add_w2i0j2_mul_bi2_add_wi2j0_mul_w_vecmul_otheri0_radd_0_add_wi2j1_mul_w_vecmul_otheri1_applyfunc_relu_add_w2i0j3_mul_bi3_add_wi3j0_mul_w_vecmul_otheri0_radd_0_add_wi3j1_mul_w_vecmul_otheri1_applyfunc_relu),\n",
       " GFloat(4.118734307716207, is_updateable=False, name=b2i0_add_w2i0j0_mul_bi0_add_wi0j0_mul_w_vecmul_otheri0_radd_0_add_wi0j1_mul_w_vecmul_otheri1_applyfunc_relu_radd_0_add_w2i0j1_mul_bi1_add_wi1j0_mul_w_vecmul_otheri0_radd_0_add_wi1j1_mul_w_vecmul_otheri1_applyfunc_relu_add_w2i0j2_mul_bi2_add_wi2j0_mul_w_vecmul_otheri0_radd_0_add_wi2j1_mul_w_vecmul_otheri1_applyfunc_relu_add_w2i0j3_mul_bi3_add_wi3j0_mul_w_vecmul_otheri0_radd_0_add_wi3j1_mul_w_vecmul_otheri1_applyfunc_relu)]"
      ]
     },
     "execution_count": 2,
     "metadata": {},
     "output_type": "execute_result"
    }
   ],
   "source": [
    "y = func(x, w, b)\n",
    "y"
   ]
  },
  {
   "cell_type": "code",
   "execution_count": 3,
   "metadata": {},
   "outputs": [
    {
     "data": {
      "text/plain": [
       "[0.0, 1.0, 1.0, 2.0, 2.0, 2.0, 4.0]"
      ]
     },
     "execution_count": 3,
     "metadata": {},
     "output_type": "execute_result"
    }
   ],
   "source": [
    "y_true"
   ]
  },
  {
   "cell_type": "code",
   "execution_count": null,
   "metadata": {},
   "outputs": [
    {
     "data": {
      "text/plain": [
       "{'add': <function gradient_float.<lambda>(self_var, downstream_var, other_var)>,\n",
       " 'radd': <function gradient_float.<lambda>(self_var, downstream_var, other_var)>,\n",
       " 'mul': <function gradient_float.<lambda>(self_var, downstream_var, other_var)>,\n",
       " 'rmul': <function gradient_float.<lambda>(self_var, downstream_var, other_var)>,\n",
       " 'sub': <function gradient_float.<lambda>(self_var, downstream_var, other_var)>,\n",
       " 'rsub': <function gradient_float.<lambda>(self_var, downstream_var, other_var)>,\n",
       " 'div': <function gradient_float.<lambda>(self_var, downstream_var, other_var)>,\n",
       " 'rdiv': <function gradient_float.<lambda>(self_var, downstream_var, other_var)>,\n",
       " 'pow': <function gradient_float.<lambda>(self_var, downstream_var, other_var)>}"
      ]
     },
     "execution_count": 3,
     "metadata": {},
     "output_type": "execute_result"
    }
   ],
   "source": [
    "from gradient_float import GRAD_FUNCS\n",
    "GRAD_FUNCS"
   ]
  },
  {
   "cell_type": "code",
   "execution_count": null,
   "metadata": {},
   "outputs": [],
   "source": []
  },
  {
   "cell_type": "code",
   "execution_count": null,
   "metadata": {},
   "outputs": [],
   "source": []
  }
 ],
 "metadata": {
  "kernelspec": {
   "display_name": "default_env",
   "language": "python",
   "name": "python3"
  },
  "language_info": {
   "codemirror_mode": {
    "name": "ipython",
    "version": 3
   },
   "file_extension": ".py",
   "mimetype": "text/x-python",
   "name": "python",
   "nbconvert_exporter": "python",
   "pygments_lexer": "ipython3",
   "version": "3.11.3"
  }
 },
 "nbformat": 4,
 "nbformat_minor": 2
}
